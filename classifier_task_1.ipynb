{
  "nbformat": 4,
  "nbformat_minor": 0,
  "metadata": {
    "colab": {
      "provenance": [],
      "authorship_tag": "ABX9TyMYW5OrPQBicM1gJb1884FS",
      "include_colab_link": true
    },
    "kernelspec": {
      "name": "python3",
      "display_name": "Python 3"
    },
    "language_info": {
      "name": "python"
    }
  },
  "cells": [
    {
      "cell_type": "markdown",
      "metadata": {
        "id": "view-in-github",
        "colab_type": "text"
      },
      "source": [
        "<a href=\"https://colab.research.google.com/github/saransh-singh-228/Employee-Retention-Prediction/blob/main/classifier_task_1.ipynb\" target=\"_parent\"><img src=\"https://colab.research.google.com/assets/colab-badge.svg\" alt=\"Open In Colab\"/></a>"
      ]
    },
    {
      "cell_type": "markdown",
      "metadata": {
        "id": "LWd1UlMnhT2s"
      },
      "source": [
        "## Importing the libraries"
      ]
    },
    {
      "cell_type": "code",
      "execution_count": null,
      "metadata": {
        "id": "YvGPUQaHhXfL"
      },
      "outputs": [],
      "source": [
        "import numpy as np\n",
        "import matplotlib.pyplot as plt\n",
        "import pandas as pd"
      ]
    },
    {
      "cell_type": "markdown",
      "metadata": {
        "id": "K1VMqkGvhc3-"
      },
      "source": [
        "## Importing the dataset"
      ]
    },
    {
      "cell_type": "code",
      "execution_count": null,
      "metadata": {
        "id": "efXfMoj3Q7_V"
      },
      "outputs": [],
      "source": [
        "dataset = pd.read_csv(\"HR_Dataset.csv\")\n",
        "x= dataset.iloc[:,:].values\n",
        "x= np.delete(x, -4, 1)\n",
        "y= dataset.iloc[:, -4].values"
      ]
    },
    {
      "cell_type": "code",
      "execution_count": null,
      "metadata": {
        "colab": {
          "base_uri": "https://localhost:8080/"
        },
        "id": "uuZ_i-8sf-tm",
        "outputId": "e9e18ad2-5b89-4972-fe1e-f4800456e1b2"
      },
      "outputs": [
        {
          "output_type": "stream",
          "name": "stdout",
          "text": [
            "[[0.38 0.53 2 157 3 0 0 'sales' 'low']\n",
            " [0.8 0.86 5 262 6 0 0 'sales' 'medium']\n",
            " [0.11 0.88 7 272 4 0 0 'sales' 'medium']\n",
            " [0.72 0.87 5 223 5 0 0 'sales' 'low']\n",
            " [0.37 0.52 2 159 3 0 0 'sales' 'low']\n",
            " [0.41 0.5 2 153 3 0 0 'sales' 'low']\n",
            " [0.1 0.77 6 247 4 0 0 'sales' 'low']\n",
            " [0.92 0.85 5 259 5 0 0 'sales' 'low']\n",
            " [0.89 1.0 5 224 5 0 0 'sales' 'low']\n",
            " [0.42 0.53 2 142 3 0 0 'sales' 'low']]\n"
          ]
        }
      ],
      "source": [
        "print(x[:10])"
      ]
    },
    {
      "cell_type": "code",
      "execution_count": null,
      "metadata": {
        "colab": {
          "base_uri": "https://localhost:8080/"
        },
        "id": "P9MEhYajgD0n",
        "outputId": "7aaabb97-dc84-4c78-c319-d40e8093f7ef"
      },
      "outputs": [
        {
          "output_type": "stream",
          "name": "stdout",
          "text": [
            "[1 1 1 1 1 1 1 1 1 1]\n"
          ]
        }
      ],
      "source": [
        "print(y[:10])"
      ]
    },
    {
      "cell_type": "markdown",
      "source": [
        "##Encoding Categorical Data"
      ],
      "metadata": {
        "id": "oNQyuw2VwVyw"
      }
    },
    {
      "cell_type": "markdown",
      "metadata": {
        "id": "AhSpdQWeSsFh"
      },
      "source": [
        "### Encoding the Independent Variable salary\n",
        "\n"
      ]
    },
    {
      "cell_type": "code",
      "source": [
        "from sklearn.compose import ColumnTransformer\n",
        "from sklearn.preprocessing import OneHotEncoder\n",
        "ct= ColumnTransformer(transformers=[('encoder', OneHotEncoder(), [-1])], remainder='passthrough')\n",
        "x=np.array(ct.fit_transform(x))"
      ],
      "metadata": {
        "id": "x6_w1nYodFOV"
      },
      "execution_count": null,
      "outputs": []
    },
    {
      "cell_type": "code",
      "source": [
        "print(x[:10])"
      ],
      "metadata": {
        "colab": {
          "base_uri": "https://localhost:8080/"
        },
        "id": "kvnPZp91fFcU",
        "outputId": "679c4466-1858-4385-e148-5628ce4b055e"
      },
      "execution_count": null,
      "outputs": [
        {
          "output_type": "stream",
          "name": "stdout",
          "text": [
            "[[0.0 1.0 0.0 0.38 0.53 2 157 3 0 0 'sales']\n",
            " [0.0 0.0 1.0 0.8 0.86 5 262 6 0 0 'sales']\n",
            " [0.0 0.0 1.0 0.11 0.88 7 272 4 0 0 'sales']\n",
            " [0.0 1.0 0.0 0.72 0.87 5 223 5 0 0 'sales']\n",
            " [0.0 1.0 0.0 0.37 0.52 2 159 3 0 0 'sales']\n",
            " [0.0 1.0 0.0 0.41 0.5 2 153 3 0 0 'sales']\n",
            " [0.0 1.0 0.0 0.1 0.77 6 247 4 0 0 'sales']\n",
            " [0.0 1.0 0.0 0.92 0.85 5 259 5 0 0 'sales']\n",
            " [0.0 1.0 0.0 0.89 1.0 5 224 5 0 0 'sales']\n",
            " [0.0 1.0 0.0 0.42 0.53 2 142 3 0 0 'sales']]\n"
          ]
        }
      ]
    },
    {
      "cell_type": "markdown",
      "metadata": {
        "id": "nlq8_Xcp4JAb"
      },
      "source": [
        "### Encoding the Independent Variable dept.\n",
        "\n"
      ]
    },
    {
      "cell_type": "code",
      "source": [
        "from sklearn.compose import ColumnTransformer\n",
        "from sklearn.preprocessing import OneHotEncoder\n",
        "ct= ColumnTransformer(transformers=[('encoder', OneHotEncoder(), [-1])], remainder='passthrough')\n",
        "x=np.array(ct.fit_transform(x))"
      ],
      "metadata": {
        "id": "wrsYscEA4JAk"
      },
      "execution_count": null,
      "outputs": []
    },
    {
      "cell_type": "code",
      "source": [
        "print(x[:10])"
      ],
      "metadata": {
        "colab": {
          "base_uri": "https://localhost:8080/"
        },
        "outputId": "3beb5837-8cf2-426b-c14b-e7bbb08593a5",
        "id": "GfFUrWO84JAl"
      },
      "execution_count": null,
      "outputs": [
        {
          "output_type": "stream",
          "name": "stdout",
          "text": [
            "[[0.0 0.0 0.0 0.0 0.0 0.0 0.0 1.0 0.0 0.0 0.0 1.0 0.0 0.38 0.53 2 157 3 0\n",
            "  0]\n",
            " [0.0 0.0 0.0 0.0 0.0 0.0 0.0 1.0 0.0 0.0 0.0 0.0 1.0 0.8 0.86 5 262 6 0\n",
            "  0]\n",
            " [0.0 0.0 0.0 0.0 0.0 0.0 0.0 1.0 0.0 0.0 0.0 0.0 1.0 0.11 0.88 7 272 4 0\n",
            "  0]\n",
            " [0.0 0.0 0.0 0.0 0.0 0.0 0.0 1.0 0.0 0.0 0.0 1.0 0.0 0.72 0.87 5 223 5 0\n",
            "  0]\n",
            " [0.0 0.0 0.0 0.0 0.0 0.0 0.0 1.0 0.0 0.0 0.0 1.0 0.0 0.37 0.52 2 159 3 0\n",
            "  0]\n",
            " [0.0 0.0 0.0 0.0 0.0 0.0 0.0 1.0 0.0 0.0 0.0 1.0 0.0 0.41 0.5 2 153 3 0\n",
            "  0]\n",
            " [0.0 0.0 0.0 0.0 0.0 0.0 0.0 1.0 0.0 0.0 0.0 1.0 0.0 0.1 0.77 6 247 4 0\n",
            "  0]\n",
            " [0.0 0.0 0.0 0.0 0.0 0.0 0.0 1.0 0.0 0.0 0.0 1.0 0.0 0.92 0.85 5 259 5 0\n",
            "  0]\n",
            " [0.0 0.0 0.0 0.0 0.0 0.0 0.0 1.0 0.0 0.0 0.0 1.0 0.0 0.89 1.0 5 224 5 0\n",
            "  0]\n",
            " [0.0 0.0 0.0 0.0 0.0 0.0 0.0 1.0 0.0 0.0 0.0 1.0 0.0 0.42 0.53 2 142 3 0\n",
            "  0]]\n"
          ]
        }
      ]
    },
    {
      "cell_type": "code",
      "source": [
        "print(len(x[1]))"
      ],
      "metadata": {
        "colab": {
          "base_uri": "https://localhost:8080/"
        },
        "id": "T-qphT-NFfJh",
        "outputId": "e81448ec-6c01-45ee-a14a-cb3269514d3a"
      },
      "execution_count": null,
      "outputs": [
        {
          "output_type": "stream",
          "name": "stdout",
          "text": [
            "20\n"
          ]
        }
      ]
    },
    {
      "cell_type": "markdown",
      "metadata": {
        "id": "YvxIPVyMhmKp"
      },
      "source": [
        "## Splitting the dataset into the Training set and Test set"
      ]
    },
    {
      "cell_type": "code",
      "execution_count": null,
      "metadata": {
        "id": "wI6eHydIhaSN"
      },
      "outputs": [],
      "source": [
        "from sklearn.model_selection import train_test_split\n",
        "x_train, x_test, y_train, y_test = train_test_split(x,y,test_size=0.2,random_state=1)\n"
      ]
    },
    {
      "cell_type": "code",
      "source": [
        "print(x_train[:5])"
      ],
      "metadata": {
        "colab": {
          "base_uri": "https://localhost:8080/"
        },
        "id": "37_J0d57qYa_",
        "outputId": "4af0c326-c0dc-46f6-b71b-a3ec1927be28"
      },
      "execution_count": null,
      "outputs": [
        {
          "output_type": "stream",
          "name": "stdout",
          "text": [
            "[[0.0 0.0 0.0 0.0 0.0 0.0 0.0 0.0 0.0 1.0 0.0 0.0 1.0 0.68 0.7 4 185 4 0\n",
            "  0]\n",
            " [0.0 1.0 0.0 0.0 0.0 0.0 0.0 0.0 0.0 0.0 0.0 0.0 1.0 0.45 0.47 2 135 3 0\n",
            "  0]\n",
            " [0.0 0.0 0.0 0.0 0.0 0.0 0.0 1.0 0.0 0.0 0.0 0.0 1.0 0.7 0.99 5 135 4 0\n",
            "  0]\n",
            " [0.0 0.0 0.0 0.0 1.0 0.0 0.0 0.0 0.0 0.0 1.0 0.0 0.0 0.58 0.58 3 122 3 0\n",
            "  0]\n",
            " [0.0 0.0 0.0 0.0 1.0 0.0 0.0 0.0 0.0 0.0 1.0 0.0 0.0 0.97 0.58 4 187 4 1\n",
            "  0]]\n"
          ]
        }
      ]
    },
    {
      "cell_type": "markdown",
      "metadata": {
        "id": "kW3c7UYih0hT"
      },
      "source": [
        "## Feature Scaling"
      ]
    },
    {
      "cell_type": "code",
      "execution_count": null,
      "metadata": {
        "id": "a3wgLG-0qmYm"
      },
      "outputs": [],
      "source": [
        "from sklearn.preprocessing import StandardScaler\n",
        "sc= StandardScaler()\n",
        "x_train[:,15:18]=sc.fit_transform(x_train[:,15:18])\n",
        "x_test[:,15:18]=sc.transform(x_test[:,15:18])\n"
      ]
    },
    {
      "cell_type": "code",
      "execution_count": null,
      "metadata": {
        "colab": {
          "base_uri": "https://localhost:8080/"
        },
        "id": "G_YF80N9gWbD",
        "outputId": "5605b1a5-e490-4e60-92d8-c47b0c36f235"
      },
      "outputs": [
        {
          "output_type": "stream",
          "name": "stdout",
          "text": [
            "[[0.0 0.0 0.0 0.0 0.0 0.0 0.0 0.0 0.0 1.0 0.0 0.0 1.0 0.68 0.7\n",
            "  0.16799976073064457 -0.32167138865940104 0.3458098019997247 0 0]\n",
            " [0.0 1.0 0.0 0.0 0.0 0.0 0.0 0.0 0.0 0.0 0.0 0.0 1.0 0.45 0.47\n",
            "  -1.4543979286110091 -1.3244864767427889 -0.33935727432040336 0 0]\n",
            " [0.0 0.0 0.0 0.0 0.0 0.0 0.0 1.0 0.0 0.0 0.0 0.0 1.0 0.7 0.99\n",
            "  0.9791986054014714 -1.3244864767427889 0.3458098019997247 0 0]\n",
            " [0.0 0.0 0.0 0.0 1.0 0.0 0.0 0.0 0.0 0.0 1.0 0.0 0.0 0.58 0.58\n",
            "  -0.6431990839401823 -1.5852183996444698 -0.33935727432040336 0 0]\n",
            " [0.0 0.0 0.0 0.0 1.0 0.0 0.0 0.0 0.0 0.0 1.0 0.0 0.0 0.97 0.58\n",
            "  0.16799976073064457 -0.2815587851360655 0.3458098019997247 1 0]\n",
            " [0.0 0.0 0.0 0.0 0.0 0.0 0.0 0.0 0.0 1.0 0.0 0.0 1.0 0.89 0.56\n",
            "  0.16799976073064457 0.48058068180730934 0.3458098019997247 0 0]\n",
            " [0.0 0.0 0.0 0.0 0.0 0.0 0.0 1.0 0.0 0.0 0.0 1.0 0.0 0.45 0.46\n",
            "  -1.4543979286110091 -1.4648805890744632 -0.33935727432040336 0 0]\n",
            " [0.0 0.0 0.0 0.0 0.0 0.0 0.0 1.0 0.0 0.0 0.0 0.0 1.0 0.69 0.73\n",
            "  0.16799976073064457 1.1223823381806777 4.456812259920493 1 0]\n",
            " [0.0 0.0 0.0 0.0 0.0 0.0 0.0 0.0 0.0 1.0 0.0 0.0 1.0 0.92 0.89\n",
            "  0.16799976073064457 0.7012000011856546 0.3458098019997247 1 0]\n",
            " [1.0 0.0 0.0 0.0 0.0 0.0 0.0 0.0 0.0 0.0 0.0 0.0 1.0 1.0 0.86\n",
            "  -1.4543979286110091 1.262776450512352 -0.33935727432040336 0 0]]\n"
          ]
        }
      ],
      "source": [
        "print(x_train[:10])"
      ]
    },
    {
      "cell_type": "code",
      "execution_count": null,
      "metadata": {
        "colab": {
          "base_uri": "https://localhost:8080/"
        },
        "id": "CoMvXQlKga0A",
        "outputId": "8c39efbf-c839-4cee-8d35-dad28161681f"
      },
      "outputs": [
        {
          "output_type": "stream",
          "name": "stdout",
          "text": [
            "[[0.0 0.0 0.0 0.0 0.0 0.0 0.0 1.0 0.0 0.0 0.0 0.0 1.0 0.67 0.39\n",
            "  -1.4543979286110091 0.11956725009728968 2.401311030960109 0 0]\n",
            " [0.0 0.0 0.0 0.0 0.0 0.0 0.0 0.0 1.0 0.0 0.0 0.0 1.0 0.51 0.98\n",
            "  0.16799976073064457 0.8817067170406645 -0.33935727432040336 0 0]\n",
            " [0.0 0.0 0.0 0.0 0.0 0.0 0.0 0.0 0.0 1.0 0.0 1.0 0.0 0.66 0.54\n",
            "  -1.4543979286110091 -1.3044301749811211 -1.0245243506405315 0 0]\n",
            " [0.0 0.0 0.0 0.0 0.0 0.0 0.0 0.0 0.0 1.0 0.0 1.0 0.0 0.53 0.81\n",
            "  -0.6431990839401823 1.4833957698906972 -1.0245243506405315 0 0]\n",
            " [0.0 0.0 0.0 0.0 0.0 0.0 0.0 0.0 1.0 0.0 0.0 0.0 1.0 0.83 0.98\n",
            "  0.16799976073064457 1.1624949417040131 1.0309768783198527 0 0]\n",
            " [0.0 0.0 0.0 0.0 0.0 0.0 0.0 0.0 0.0 1.0 0.0 0.0 1.0 0.4 0.41\n",
            "  -0.6431990839401823 0.6209747941389836 -0.33935727432040336 0 0]\n",
            " [0.0 0.0 0.0 0.0 0.0 0.0 0.0 0.0 1.0 0.0 0.0 1.0 0.0 0.45 0.57\n",
            "  -1.4543979286110091 -1.1640360626494468 -0.33935727432040336 0 0]\n",
            " [0.0 0.0 0.0 0.0 0.0 0.0 0.0 1.0 0.0 0.0 0.0 1.0 0.0 0.76 0.99\n",
            "  0.9791986054014714 1.0221008293723388 -0.33935727432040336 1 0]\n",
            " [0.0 0.0 0.0 0.0 0.0 1.0 0.0 0.0 0.0 0.0 0.0 0.0 1.0 0.41 0.67\n",
            "  1.7903974500722983 0.40035547476063826 4.456812259920493 0 0]\n",
            " [0.0 0.0 0.0 0.0 0.0 0.0 0.0 0.0 0.0 1.0 0.0 1.0 0.0 0.64 0.91\n",
            "  0.16799976073064457 -1.0236419503177725 -0.33935727432040336 0 0]]\n"
          ]
        }
      ],
      "source": [
        "print(x_test[:10])"
      ]
    },
    {
      "cell_type": "markdown",
      "metadata": {
        "id": "bb6jCOCQiAmP"
      },
      "source": [
        "## Training the classification model on the Training set"
      ]
    },
    {
      "cell_type": "code",
      "execution_count": null,
      "metadata": {
        "colab": {
          "base_uri": "https://localhost:8080/"
        },
        "id": "n1td28WfgjqZ",
        "outputId": "c7fae02a-e07a-48a9-97ec-10691c8c9511"
      },
      "outputs": [
        {
          "output_type": "execute_result",
          "data": {
            "text/plain": [
              "RandomForestClassifier(criterion='entropy', n_estimators=10, random_state=0)"
            ]
          },
          "metadata": {},
          "execution_count": 56
        }
      ],
      "source": [
        "from sklearn.ensemble import RandomForestClassifier\n",
        "classifier = RandomForestClassifier(n_estimators = 10, criterion = 'entropy', random_state = 0)\n",
        "classifier.fit(x_train, y_train)"
      ]
    },
    {
      "cell_type": "markdown",
      "metadata": {
        "id": "vKYVQH-l5NpE"
      },
      "source": [
        "## Predicting the Test set results"
      ]
    },
    {
      "cell_type": "code",
      "execution_count": null,
      "metadata": {
        "colab": {
          "base_uri": "https://localhost:8080/"
        },
        "id": "gu11HxOKhqGu",
        "outputId": "6aa25b4e-c418-4ed8-9a5f-d256070f2051"
      },
      "outputs": [
        {
          "output_type": "stream",
          "name": "stdout",
          "text": [
            "[[0 0]\n",
            " [0 0]\n",
            " [0 0]\n",
            " ...\n",
            " [0 0]\n",
            " [0 0]\n",
            " [0 0]]\n"
          ]
        }
      ],
      "source": [
        "y_pred = classifier.predict(x_test)\n",
        "print(np.concatenate((y_pred.reshape(len(y_pred),1), y_test.reshape(len(y_test),1)),1))"
      ]
    },
    {
      "cell_type": "markdown",
      "metadata": {
        "id": "h4Hwj34ziWQW"
      },
      "source": [
        "## Making the Confusion Matrix"
      ]
    },
    {
      "cell_type": "code",
      "execution_count": null,
      "metadata": {
        "colab": {
          "base_uri": "https://localhost:8080/"
        },
        "id": "-k-EJz-LMikn",
        "outputId": "8d33c5e4-9c3a-40f8-89bc-bd259c07b56f"
      },
      "outputs": [
        {
          "output_type": "stream",
          "name": "stdout",
          "text": [
            "[[2279    8]\n",
            " [  24  689]]\n",
            "0.9893333333333333\n"
          ]
        }
      ],
      "source": [
        "from sklearn.metrics import confusion_matrix, accuracy_score\n",
        "cm=confusion_matrix(y_test,y_pred)\n",
        "print(cm)\n",
        "acs=accuracy_score(y_test, y_pred)\n",
        "print(acs)"
      ]
    }
  ]
}